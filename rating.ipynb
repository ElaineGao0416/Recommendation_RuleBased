{
 "cells": [
  {
   "cell_type": "code",
   "execution_count": 6,
   "metadata": {
    "collapsed": true
   },
   "outputs": [],
   "source": [
    "import gzip\n",
    "from collections import defaultdict\n",
    "import sklearn\n",
    "import numpy as np\n",
    "import pandas as pd\n",
    "from pandas import DataFrame, Series\n",
    "from time import time\n",
    "from functools import reduce\n",
    "from random import shuffle"
   ]
  },
  {
   "cell_type": "code",
   "execution_count": 7,
   "metadata": {
    "collapsed": true
   },
   "outputs": [],
   "source": [
    "def readGz(f):\n",
    "  for l in gzip.open(f):\n",
    "    yield eval(l)"
   ]
  },
  {
   "cell_type": "code",
   "execution_count": 8,
   "metadata": {
    "collapsed": true
   },
   "outputs": [],
   "source": [
    "data = [[l['userID'],l['businessID'],l['rating']] for l in readGz(\".../train.json.gz\")]\n",
    "shuffle(data)\n",
    "train_data = data[:180000]\n",
    "test_data = data[180000:]"
   ]
  },
  {
   "cell_type": "code",
   "execution_count": 9,
   "metadata": {
    "collapsed": true
   },
   "outputs": [],
   "source": [
    "train_data_pd = DataFrame(train_data, columns=['userID','businessID','rating'])"
   ]
  },
  {
   "cell_type": "code",
   "execution_count": 10,
   "metadata": {
    "collapsed": true
   },
   "outputs": [],
   "source": [
    "def average(group):\n",
    "    return sum(group.rating) / group.rating.count()\n",
    "user_avg = train_data_pd.groupby(\"userID\").apply(average).to_dict()\n",
    "business_avg = train_data_pd.groupby(\"businessID\").apply(average).to_dict()"
   ]
  },
  {
   "cell_type": "code",
   "execution_count": 11,
   "metadata": {},
   "outputs": [],
   "source": [
    "user_business = train_data_pd.groupby(\"userID\").apply(lambda group: list(group.businessID)).to_dict()\n",
    "business_user = train_data_pd.groupby(\"businessID\").apply(lambda group: list(group.userID)).to_dict()"
   ]
  },
  {
   "cell_type": "code",
   "execution_count": 9,
   "metadata": {
    "collapsed": true
   },
   "outputs": [],
   "source": [
    "default_avg = train_data_pd.rating.mean()"
   ]
  },
  {
   "cell_type": "code",
   "execution_count": 10,
   "metadata": {
    "collapsed": true
   },
   "outputs": [],
   "source": [
    "def prepare(data):\n",
    "    X = []\n",
    "    y = []\n",
    "    for item in data:\n",
    "        userID = item[0]\n",
    "        businessID = item[1]\n",
    "        try:\n",
    "            user_avg_rating = user_avg[userID]\n",
    "        except:\n",
    "            user_avg_rating = default_avg\n",
    "            \n",
    "        try:\n",
    "            business_avg_rating = business_avg[businessID]\n",
    "        except:\n",
    "            business_avg_rating = default_avg\n",
    "            \n",
    "        X.append([user_avg_rating, business_avg_rating])\n",
    "        y.append(int(item[2]))\n",
    "    return X, y"
   ]
  },
  {
   "cell_type": "code",
   "execution_count": 11,
   "metadata": {
    "collapsed": true
   },
   "outputs": [],
   "source": [
    "X_train, y_train = prepare(train_data)"
   ]
  },
  {
   "cell_type": "code",
   "execution_count": 12,
   "metadata": {
    "collapsed": true
   },
   "outputs": [],
   "source": [
    "X_test, y_test = prepare(test_data)"
   ]
  },
  {
   "cell_type": "code",
   "execution_count": 13,
   "metadata": {
    "collapsed": true
   },
   "outputs": [],
   "source": [
    "from sklearn.model_selection import train_test_split\n",
    "from sklearn.metrics import mean_squared_error"
   ]
  },
  {
   "cell_type": "code",
   "execution_count": 14,
   "metadata": {
    "collapsed": true
   },
   "outputs": [],
   "source": [
    "from sklearn.tree import DecisionTreeRegressor\n",
    "from sklearn.ensemble import AdaBoostRegressor, RandomForestRegressor\n",
    "from sklearn.linear_model import LogisticRegression, Lasso, SGDRegressor\n",
    "from sklearn.ensemble import GradientBoostingRegressor"
   ]
  },
  {
   "cell_type": "code",
   "execution_count": 15,
   "metadata": {
    "collapsed": true
   },
   "outputs": [],
   "source": [
    "clf_A = DecisionTreeRegressor()\n",
    "clf_B = AdaBoostRegressor()\n",
    "clf_C = RandomForestRegressor()\n",
    "clf_D = LogisticRegression()\n",
    "clf_E = Lasso()\n",
    "clf_F = SGDRegressor()\n",
    "clf_G = GradientBoostingRegressor()"
   ]
  },
  {
   "cell_type": "code",
   "execution_count": 17,
   "metadata": {
    "collapsed": true
   },
   "outputs": [],
   "source": [
    "from sklearn.model_selection import GridSearchCV, KFold\n",
    "from sklearn.metrics import make_scorer\n",
    "\n",
    "# TODO：初始化分类器\n",
    "clf = GradientBoostingRegressor()\n",
    "\n",
    "# TODO：创建你希望调节的参数列表\n",
    "parameters = {'alpha':[0.2,0.6,0.8], 'learning_rate':[0.05, 0.1, 0.8]}\n",
    "\n",
    "# TODO：创建一个fbeta_score打分对象\n",
    "scorer = make_scorer(mean_squared_error)"
   ]
  },
  {
   "cell_type": "code",
   "execution_count": 18,
   "metadata": {
    "collapsed": true
   },
   "outputs": [],
   "source": [
    "# TODO：在分类器上使用网格搜索，使用'scorer'作为评价函数\n",
    "grid_obj = GridSearchCV(clf, parameters, scoring=scorer, cv=None)\n",
    "\n",
    "# TODO：用训练数据拟合网格搜索对象并找到最佳参数\n",
    "grid_obj = grid_obj.fit(X_train, y_train)\n",
    "\n",
    "# 得到estimator\n",
    "best_clf = grid_obj.best_estimator_"
   ]
  },
  {
   "cell_type": "code",
   "execution_count": 19,
   "metadata": {},
   "outputs": [
    {
     "data": {
      "text/plain": [
       "GradientBoostingRegressor(alpha=0.8, criterion='friedman_mse', init=None,\n",
       "             learning_rate=0.8, loss='ls', max_depth=3, max_features=None,\n",
       "             max_leaf_nodes=None, min_impurity_split=1e-07,\n",
       "             min_samples_leaf=1, min_samples_split=2,\n",
       "             min_weight_fraction_leaf=0.0, n_estimators=100,\n",
       "             presort='auto', random_state=None, subsample=1.0, verbose=0,\n",
       "             warm_start=False)"
      ]
     },
     "execution_count": 19,
     "metadata": {},
     "output_type": "execute_result"
    }
   ],
   "source": [
    "best_clf\n"
   ]
  },
  {
   "cell_type": "code",
   "execution_count": 20,
   "metadata": {},
   "outputs": [
    {
     "data": {
      "text/plain": [
       "GradientBoostingRegressor(alpha=0.9, criterion='friedman_mse', init=None,\n",
       "             learning_rate=0.1, loss='ls', max_depth=3, max_features=None,\n",
       "             max_leaf_nodes=None, min_impurity_split=1e-07,\n",
       "             min_samples_leaf=1, min_samples_split=2,\n",
       "             min_weight_fraction_leaf=0.0, n_estimators=100,\n",
       "             presort='auto', random_state=None, subsample=1.0, verbose=0,\n",
       "             warm_start=False)"
      ]
     },
     "execution_count": 20,
     "metadata": {},
     "output_type": "execute_result"
    }
   ],
   "source": [
    "clf_A.fit(X_train, y_train)\n",
    "clf_B.fit(X_train, y_train)\n",
    "clf_C.fit(X_train, y_train)\n",
    "clf_D.fit(X_train, y_train)\n",
    "clf_E.fit(X_train, y_train)\n",
    "clf_F.fit(X_train, y_train)\n",
    "clf_G.fit(X_train, y_train)"
   ]
  },
  {
   "cell_type": "code",
   "execution_count": 21,
   "metadata": {
    "scrolled": false
   },
   "outputs": [
    {
     "data": {
      "text/plain": [
       "0.63985692914728465"
      ]
     },
     "execution_count": 21,
     "metadata": {},
     "output_type": "execute_result"
    }
   ],
   "source": [
    "mean_squared_error(y_test,best_clf.predict(X_test))"
   ]
  },
  {
   "cell_type": "code",
   "execution_count": 23,
   "metadata": {
    "collapsed": true
   },
   "outputs": [],
   "source": [
    "def prepare2(data):\n",
    "    X = []\n",
    "    for item in data:\n",
    "        \n",
    "        userID = item[0]\n",
    "        businessID = item[1]\n",
    "        try:\n",
    "            user_avg_rating = user_avg[userID]\n",
    "        except:\n",
    "            user_avg_rating = default_avg\n",
    "\n",
    "        try:\n",
    "            business_avg_rating = business_avg[businessID]\n",
    "        except:\n",
    "            business_avg_rating = default_avg\n",
    "\n",
    "        X.append([user_avg_rating, business_avg_rating])\n",
    "    return X\n",
    "\n",
    "X_test_online_raw = [[l[1], l[2]] for l in pd.read_csv(\"/Users/macbook/Downloads/assignment12/pairs_Rating.txt\", delimiter=\"-\").itertuples()]\n",
    "\n",
    "X_test_online = prepare2(X_test_online_raw)\n",
    "y_test_online = clf_G.predict(X_test_online)"
   ]
  },
  {
   "cell_type": "code",
   "execution_count": 54,
   "metadata": {
    "collapsed": true
   },
   "outputs": [],
   "source": [
    "predictions = open(\"/Users/macbook/Desktop/my_predictions_Rating.csv\", 'w')\n",
    "count = 0\n",
    "for l in open(\"/Users/macbook/Downloads/assignment12/pairs_Rating.txt\"):\n",
    "    if l.startswith(\"userID\"):\n",
    "        #header\n",
    "        predictions.write(l)\n",
    "        continue\n",
    "    \n",
    "    u,i = l.strip().split('-')\n",
    "    predictions.write(u + '-' + i + ',' + str(y_test_online[count]) + '\\n')\n",
    "    count += 1\n",
    "\n",
    "predictions.close()"
   ]
  },
  {
   "cell_type": "code",
   "execution_count": null,
   "metadata": {
    "collapsed": true
   },
   "outputs": [],
   "source": []
  },
  {
   "cell_type": "code",
   "execution_count": null,
   "metadata": {
    "collapsed": true
   },
   "outputs": [],
   "source": []
  },
  {
   "cell_type": "code",
   "execution_count": null,
   "metadata": {
    "collapsed": true
   },
   "outputs": [],
   "source": []
  }
 ],
 "metadata": {
  "kernelspec": {
   "display_name": "Python 2",
   "language": "python",
   "name": "python2"
  },
  "language_info": {
   "codemirror_mode": {
    "name": "ipython",
    "version": 2
   },
   "file_extension": ".py",
   "mimetype": "text/x-python",
   "name": "python",
   "nbconvert_exporter": "python",
   "pygments_lexer": "ipython2",
   "version": "2.7.14"
  }
 },
 "nbformat": 4,
 "nbformat_minor": 2
}
